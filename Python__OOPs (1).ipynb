{
  "cells": [
    {
      "cell_type": "code",
      "execution_count": null,
      "metadata": {
        "id": "eGazOVlAT1_q"
      },
      "outputs": [],
      "source": [
        "#Q1 What is Object-Oriented Programming (OOP)?\n",
        "#ANS  The object oriented programming in Python involves creating classes as blueprints for objects. These objects contain data and the methods needed to manipulate that data."
      ]
    },
    {
      "cell_type": "code",
      "execution_count": null,
      "metadata": {
        "id": "p2vciGauT-Pb"
      },
      "outputs": [],
      "source": [
        "#Q2 What is a class in OOP?\n",
        "#ANS  Class is a blueprint or template for creating objects defining the attributes data and methods functions that objects of that class will have.\n"
      ]
    },
    {
      "cell_type": "code",
      "execution_count": null,
      "metadata": {
        "id": "krJ8zrd1T-ni"
      },
      "outputs": [],
      "source": [
        "#Q3 What is an object in OOP?\n",
        "\n",
        "#ans object is a specific instance of a class it is  representing a unique entity with its own data attributes and behavior methods."
      ]
    },
    {
      "cell_type": "code",
      "execution_count": null,
      "metadata": {
        "colab": {
          "background_save": true
        },
        "id": "nKhZOBr4T-uU"
      },
      "outputs": [],
      "source": [
        "#Q4 What is the difference between abstraction and encapsulation?\n",
        "#ANS  Encapsulation\n",
        "# .\tIt is the process or method for containing information.\n",
        "#2.During encapsulation, issues are resolved at the implementation level.\n",
        "#3.The focus of encapsulation is “how” it should be done.\n",
        "#4.\tIt is a way of hiding data in a single entity or unit and a way of protecting information from the outside world\n",
        "#5.It can be implemented using access modifiers, i.e. private, protected, public\n",
        "#6. It hides data from direct access by users (data hiding)\n",
        "\n",
        "#\tAbstraction\n",
        "\n",
        "#1.\tIt is a process or method of obtaining information.\n",
        "#2.Abstractions solve problems at the design or interface level.\n",
        "#3.The focus of abstraction is “what” to do.\n",
        "#4.Abstraction is a way of hiding unnecessary information\n",
        "#5.Abstract classes and interfaces can be used to implement abstractions\n",
        "#6.Abstractions allow access to specific pieces of data\n"
      ]
    },
    {
      "cell_type": "code",
      "execution_count": null,
      "metadata": {
        "id": "2UC9JItAT-xo"
      },
      "outputs": [],
      "source": [
        "#Q5 What is the difference between abstraction and encapsulation?\n",
        "#ANS  Dunder Methods in Python (also called magic methods) Dunder methods are special methods in Python that start and end with double underscores — like init, str, len, etc.\n",
        "#The word \"dunder\" stands for \"Double UNDERscore\"."
      ]
    },
    {
      "cell_type": "code",
      "execution_count": null,
      "metadata": {
        "id": "DYuo7oOaT-2B"
      },
      "outputs": [],
      "source": [
        "#Q6 Explain the concept of inheritance in OOPS\n",
        "#ANS  inheritance is the concept where one class (child) can inherit properties and methods from another class (parent).\n",
        "#It allows code reuse and supports the “is-a” relationship.\n"
      ]
    },
    {
      "cell_type": "code",
      "execution_count": null,
      "metadata": {
        "id": "XBTJYymuT-51"
      },
      "outputs": [],
      "source": [
        "#Q7  What is polymorphism in OOP?\n",
        "# ANS Polymorphism means “many forms”. It allows the same method or function to behave differently based on the object calling it."
      ]
    },
    {
      "cell_type": "code",
      "execution_count": null,
      "metadata": {
        "id": "D0Njulp-T-9p"
      },
      "outputs": [],
      "source": [
        "#Q8 How is encapsulation achieved in Python.\n",
        "#ANS ncapsulation in Python is achieved through the use of access modifiers which restrict access to the methods and variables of a class."
      ]
    },
    {
      "cell_type": "code",
      "execution_count": null,
      "metadata": {
        "id": "2pDE1sLST_Bd"
      },
      "outputs": [],
      "source": [
        "# Q9 What is a constructor in Python.\n",
        "#ANS Constructors in Python is a special class method for creating and initializing an object instance at that class. Every Python class has a constructor; it's not required to be defined explicitly. The purpose of the constructor is to construct an object and assign a value to the object's members."
      ]
    },
    {
      "cell_type": "code",
      "execution_count": null,
      "metadata": {
        "id": "E8xFTnT1UCq0"
      },
      "outputs": [],
      "source": [
        "#Q10. What are class and static methods in Python.\n",
        "#AS   Python, **class methods** are associated with the class itself allowing access to class-level attributes and are often used as alternative constructors or to perform actions related to the class as a whole.\n",
        "\n",
        "#THE *Static methods* on the other hand, are utility functions tied to the class but don't access or modify either class or instance attributes."
      ]
    },
    {
      "cell_type": "code",
      "execution_count": null,
      "metadata": {
        "id": "8urmAVVPUC4J"
      },
      "outputs": [],
      "source": [
        "#Q11 What is method overloading in Python\n",
        "#ANS   The Methods in Python can be called with zero, one, or more parameters. This process of calling the same method in different ways is called method overloading."
      ]
    },
    {
      "cell_type": "code",
      "execution_count": null,
      "metadata": {
        "id": "C6aEOFfHUC_Y"
      },
      "outputs": [],
      "source": [
        "# Q 12 What is method overriding in OOP\n",
        "#ans The Object-Oriented Programming OOP, method overriding allows a subclass to provide a specific implementation for a method that is already defined in its superclass."
      ]
    },
    {
      "cell_type": "code",
      "execution_count": null,
      "metadata": {
        "id": "r6fhrICkUDD7"
      },
      "outputs": [],
      "source": [
        "# Q 13 What is a property decorator in Python?\n",
        "#ANS  The Python property decorator makes attributes in a class act like read-only properties."
      ]
    },
    {
      "cell_type": "code",
      "execution_count": null,
      "metadata": {
        "id": "FPygmD_gUDHz"
      },
      "outputs": [],
      "source": [
        "#Q14 Why is polymorphism important in OOP?\n",
        "#ANS Polymorphism is crucial in OOP because it allows you to treat objects of different classes as objects of a common type, enabling code reuse, flexibility, and extensibility.\n",
        "\n"
      ]
    },
    {
      "cell_type": "code",
      "execution_count": null,
      "metadata": {
        "id": "PgAQkKBeUDLT"
      },
      "outputs": [],
      "source": [
        "# Q15 What is an abstract class in Python>\n",
        "# ans. Python have an abstract class is a blueprint for other classes that cannot be instantiated directly."
      ]
    },
    {
      "cell_type": "code",
      "execution_count": null,
      "metadata": {
        "id": "pL6_FjmDUDO5"
      },
      "outputs": [],
      "source": [
        "#Q16 What are the advantages of OOP\n",
        "#ans  Modularity OOP divides complex systems into smaller components, making the codebase easier to comprehend, create, and maintain.\n",
        "#Reusability Inheritance allows code reuse, improving code quality and saving time.\n",
        "#Encapsulation Protects data integrity and privacy by restricting direct access and allowing controlled access through methods.\n",
        "#Flexibility and Scalability OOP enables easy addition and modification of features without impacting the entire codebase."
      ]
    },
    {
      "cell_type": "code",
      "execution_count": null,
      "metadata": {
        "id": "ia-_KNS8UDSO"
      },
      "outputs": [],
      "source": [
        "#Q17 What is the difference between a class variable and an instance variable?\n",
        "#ns.  The key difference between class variables (static variables) and instance variables in object-oriented programming is their scope and how they are accessed. Class variables are shared by all instances (objects) of a class, meaning only one copy exists for the entire class, while instance variables are unique to each object and each object has its own independent."
      ]
    },
    {
      "cell_type": "code",
      "execution_count": null,
      "metadata": {
        "id": "6T89z3IMUDVg"
      },
      "outputs": [],
      "source": [
        "#Q18  What is multiple inheritance in Python.\n",
        "#ans.Multiple inheritance means a class can inherit from more than one parent class. This allows a child class to access features of all parent classes.\n"
      ]
    },
    {
      "cell_type": "code",
      "execution_count": null,
      "metadata": {
        "id": "EqDRkZ7ZUDYt"
      },
      "outputs": [],
      "source": [
        "#Q 19  Explain the purpose of ‘’__str__’ and ‘__repr__’ ‘ methods in Python.\n",
        "#ans the purpose of\" __str__ \"is used for informal string representations, such as printing objects for user consumption. __repr__ is used for formal string representations, including debugging, logging, and object inspection."
      ]
    },
    {
      "cell_type": "code",
      "execution_count": null,
      "metadata": {
        "id": "nIS-DjETUDcG"
      },
      "outputs": [],
      "source": [
        "#Q 20  What is the significance of the ‘super()’ function in Python\n",
        "#The del method is a destructor — it's called automatically when an object is deleted or goes out of scope. To clean up resources like files, connections, or memory before the object is destroyed.\n",
        "\n",
        "#class File: def del(self): print(\"File closed and cleaned up\")\n",
        "\n",
        "#f = File() del f # Triggers del()"
      ]
    },
    {
      "cell_type": "code",
      "execution_count": null,
      "metadata": {
        "id": "RM21iA8BUDfj"
      },
      "outputs": [],
      "source": [
        "# Q21 What is the significance of the __del__ method in Python\n",
        "#The super() function is used to call methods from a parent (super) class in a child class.\n",
        "\n",
        "#Why use super()? To reuse code from the parent class\n",
        "\n",
        "#Helps in multiple inheritance\n",
        "\n",
        "#Ensures proper method resolution order (MRO)\n",
        "\n",
        "#class Parent: def show(self): print(\"Parent method\")\n",
        "\n",
        "#class Child(Parent): def show(self): super().show() # Calls Parent's method print(\"Child method\")\n",
        "\n",
        "#c = Child() c.show()"
      ]
    },
    {
      "cell_type": "code",
      "execution_count": null,
      "metadata": {
        "id": "Er1cK0w7UDis"
      },
      "outputs": [],
      "source": [
        "#Q 22 What is the difference between @staticmethod and @classmethod in Python\n",
        "#Python, both @staticmethod and @classmethod are decorators used to define methods inside a class that aren't quite the usual instance methods. Here's the difference between them:\n",
        "\n",
        "#🔹 @staticmethod No access to self or cls.\n",
        "\n",
        "#It's just a function that happens to live inside a class — it doesn’t know anything about the class or instance.\n",
        "\n",
        "#Often used when you want to group functions that have some logical connection to the class, but don’t need to interact with class or instance state.\n",
        "\n",
        "#🔹 @classmethod Takes cls as the first argument instead of self.\n",
        "\n",
        "#Can access and modify class state across all instances.\n",
        "\n",
        "#Useful for factory methods or when you want behavior to vary depending on the class.\n"
      ]
    },
    {
      "cell_type": "code",
      "execution_count": null,
      "metadata": {
        "id": "FTI10JQQVyEr"
      },
      "outputs": [],
      "source": [
        "#Q 23 How does polymorphism work in Python with inheritance.\n",
        "#Polymorphism with inheritance in Python allows methods in different child classes to have the same name but behave differently. The parent class defines a general method, and each subclass overrides it with its own version. When you call the method on an object, Python chooses the correct version based on the object’s actual class at runtime.\n"
      ]
    },
    {
      "cell_type": "code",
      "execution_count": null,
      "metadata": {
        "id": "ZTFLKoS2VzAf"
      },
      "outputs": [],
      "source": [
        "#Q 24 What is method chaining in Python OOP?\n",
        "#Method chaining in Python OOP is a technique where you call multiple methods on the same object in a single line, by having each method return self.\n",
        "\n",
        "#Each method modifies the object and returns self, so the next method can be called right after it."
      ]
    },
    {
      "cell_type": "code",
      "execution_count": null,
      "metadata": {
        "id": "wHqqKVx5Vzf-"
      },
      "outputs": [],
      "source": [
        "# Q 25 What is the purpose of the __call__ method in Python?\n",
        "#The call method in Python allows an instance of a class to be called like a function. When you define a call method inside a class, you can use the instance with parentheses, as if it were a regular function.\n",
        "\n",
        "#Purpose of call: Function-like behavior for objects It lets you treat objects as if they were functions, which can be useful for:\n",
        "\n",
        "#Encapsulating logic inside objects.\n",
        "\n",
        "#Creating customizable function objects (functors).\n",
        "\n",
        "#Implementing callbacks or strategies.\n",
        "\n",
        "#Improved readability or usability You can abstract away complex function calls behind a simple interface using call.\n"
      ]
    },
    {
      "cell_type": "markdown",
      "metadata": {
        "id": "EnxShjeMWH6G"
      },
      "source": [
        "# Practical Questions"
      ]
    },
    {
      "cell_type": "code",
      "execution_count": null,
      "metadata": {
        "id": "ShlGMBF2Vzq8",
        "colab": {
          "base_uri": "https://localhost:8080/"
        },
        "outputId": "2c019a67-021d-40db-97ff-3ca895c3f09d"
      },
      "outputs": [
        {
          "output_type": "stream",
          "name": "stdout",
          "text": [
            "The animal makes a sound.\n",
            "Bark!\n"
          ]
        }
      ],
      "source": [
        "#Q1  Create a parent class Animal with a method speak() that prints a generic message. Create a child class Dog\n",
        "#that overrides the speak() method to print \"Bark!\".\n",
        "\n",
        "class Animal:\n",
        "    def speak(self):\n",
        "        print(\"The animal makes a sound.\")\n",
        "\n",
        "\n",
        "class Dog(Animal):\n",
        "    def speak(self):\n",
        "        print(\"Bark!\")\n",
        "\n",
        "\n",
        "generic_animal = Animal()\n",
        "generic_animal.speak()\n",
        "\n",
        "dog = Dog()\n",
        "dog.speak()\n"
      ]
    },
    {
      "cell_type": "code",
      "execution_count": null,
      "metadata": {
        "id": "praUtT15Vzwl",
        "colab": {
          "base_uri": "https://localhost:8080/"
        },
        "outputId": "88ba1dd8-29dd-486f-a779-7d2281f4d8ef"
      },
      "outputs": [
        {
          "output_type": "stream",
          "name": "stdout",
          "text": [
            "Circle area: 78.54\n",
            "Rectangle area: 24\n"
          ]
        }
      ],
      "source": [
        "#Q 2.  Write a program to create an abstract class Shape with a method area(). Derive classes Circle and Rectangle\n",
        "#from it and implement the area() method in both.\n",
        "\n",
        "from abc import ABC, abstractmethod\n",
        "import math\n",
        "\n",
        "\n",
        "class Shape(ABC):\n",
        "    @abstractmethod\n",
        "    def area(self):\n",
        "        pass\n",
        "\n",
        "\n",
        "class Circle(Shape):\n",
        "    def __init__(self, radius):\n",
        "        self.radius = radius\n",
        "\n",
        "    def area(self):\n",
        "        return math.pi * self.radius ** 2\n",
        "\n",
        "\n",
        "class Rectangle(Shape):\n",
        "    def __init__(self, width, height):\n",
        "        self.width = width\n",
        "        self.height = height\n",
        "\n",
        "    def area(self):\n",
        "        return self.width * self.height\n",
        "\n",
        "\n",
        "circle = Circle(5)\n",
        "rectangle = Rectangle(4, 6)\n",
        "\n",
        "print(f\"Circle area: {circle.area():.2f}\")\n",
        "print(f\"Rectangle area: {rectangle.area()}\")\n"
      ]
    },
    {
      "cell_type": "code",
      "execution_count": null,
      "metadata": {
        "id": "slBxgec0Vz0O",
        "colab": {
          "base_uri": "https://localhost:8080/"
        },
        "outputId": "6f743f45-3e31-438d-eabb-8e4892ad4291"
      },
      "outputs": [
        {
          "output_type": "stream",
          "name": "stdout",
          "text": [
            "Vehicle type: Four-wheeler\n",
            "Car brand: Tesla\n",
            "Battery capacity: 75 kWh\n"
          ]
        }
      ],
      "source": [
        "# Q.3  Implement a multi-level inheritance scenario where a class Vehicle has an attribute type. Derive a class Car\n",
        "#and further derive a class ElectricCar that adds a battery attribute.\n",
        "\n",
        "class Vehicle:\n",
        "    def __init__(self, type):\n",
        "        self.type = type\n",
        "\n",
        "    def show_type(self):\n",
        "        print(f\"Vehicle type: {self.type}\")\n",
        "\n",
        "\n",
        "class Car(Vehicle):\n",
        "    def __init__(self, type, brand):\n",
        "        super().__init__(type)\n",
        "        self.brand = brand\n",
        "\n",
        "    def show_brand(self):\n",
        "        print(f\"Car brand: {self.brand}\")\n",
        "\n",
        "\n",
        "class ElectricCar(Car):\n",
        "    def __init__(self, type, brand, battery):\n",
        "        super().__init__(type, brand)\n",
        "        self.battery = battery\n",
        "\n",
        "    def show_battery(self):\n",
        "        print(f\"Battery capacity: {self.battery} kWh\")\n",
        "\n",
        "\n",
        "ev = ElectricCar(\"Four-wheeler\", \"Tesla\", 75)\n",
        "\n",
        "ev.show_type()\n",
        "ev.show_brand()\n",
        "ev.show_battery()\n",
        "\n"
      ]
    },
    {
      "cell_type": "code",
      "execution_count": null,
      "metadata": {
        "id": "VrKxa2CwVz3i",
        "colab": {
          "base_uri": "https://localhost:8080/"
        },
        "outputId": "f34d5163-5e71-4fe3-cdaa-abcebb5345b7"
      },
      "outputs": [
        {
          "output_type": "stream",
          "name": "stdout",
          "text": [
            "Sparrow flies high in the sky.\n",
            "Penguins can't fly, they swim instead.\n"
          ]
        }
      ],
      "source": [
        "#Q.4  Demonstrate polymorphism by creating a base class Bird with a method fly(). Create two derived classes\n",
        "#Sparrow and Penguin that override the fly() method.\n",
        "\n",
        "class Bird:\n",
        "    def fly(self):\n",
        "        print(\"This bird can fly.\")\n",
        "\n",
        "\n",
        "class Sparrow(Bird):\n",
        "    def fly(self):\n",
        "        print(\"Sparrow flies high in the sky.\")\n",
        "\n",
        "\n",
        "class Penguin(Bird):\n",
        "    def fly(self):\n",
        "        print(\"Penguins can't fly, they swim instead.\")\n",
        "\n",
        "\n",
        "def make_bird_fly(bird):\n",
        "    bird.fly()\n",
        "\n",
        "\n",
        "bird1 = Sparrow()\n",
        "bird2 = Penguin()\n",
        "\n",
        "make_bird_fly(bird1)\n",
        "make_bird_fly(bird2)\n"
      ]
    },
    {
      "cell_type": "code",
      "execution_count": null,
      "metadata": {
        "id": "2HcP7wj8WxWN",
        "colab": {
          "base_uri": "https://localhost:8080/"
        },
        "outputId": "b2ef2579-ce62-42e0-ac8d-d2210a21da80"
      },
      "outputs": [
        {
          "output_type": "stream",
          "name": "stdout",
          "text": [
            "Current balance: ₹1000\n",
            "Deposited ₹500.\n",
            "Withdrew ₹300.\n",
            "Current balance: ₹1200\n"
          ]
        }
      ],
      "source": [
        "#Q 5.Write a program to demonstrate encapsulation by creating a class BankAccount with private attributes\n",
        "#balance and methods to deposit, withdraw, and check balance.\n",
        "class BankAccount:\n",
        "    def __init__(self, initial_balance=0):\n",
        "\n",
        "        self.__balance = initial_balance\n",
        "\n",
        "\n",
        "    def deposit(self, amount):\n",
        "        if amount > 0:\n",
        "            self.__balance += amount\n",
        "            print(f\"Deposited ₹{amount}.\")\n",
        "        else:\n",
        "            print(\"Deposit amount must be positive.\")\n",
        "\n",
        "\n",
        "    def withdraw(self, amount):\n",
        "        if 0 < amount <= self.__balance:\n",
        "            self.__balance -= amount\n",
        "            print(f\"Withdrew ₹{amount}.\")\n",
        "        else:\n",
        "            print(\"Insufficient balance or invalid amount.\")\n",
        "\n",
        "\n",
        "    def check_balance(self):\n",
        "        print(f\"Current balance: ₹{self.__balance}\")\n",
        "\n",
        "\n",
        "\n",
        "account = BankAccount(1000)\n",
        "\n",
        "account.check_balance()\n",
        "account.deposit(500)\n",
        "account.withdraw(300)\n",
        "account.check_balance()\n",
        "\n"
      ]
    },
    {
      "cell_type": "code",
      "execution_count": null,
      "metadata": {
        "id": "lXn_6EGyWyJa",
        "colab": {
          "base_uri": "https://localhost:8080/"
        },
        "outputId": "248ef873-9c67-4fd4-e6a2-fdbf3dec68cd"
      },
      "outputs": [
        {
          "output_type": "stream",
          "name": "stdout",
          "text": [
            "Strumming the guitar.\n",
            "Playing the piano keys.\n"
          ]
        }
      ],
      "source": [
        "#Q.6.Demonstrate runtime polymorphism using a method play() in a base class Instrument. Derive classes Guitar\n",
        "#and Piano that implement their own version of play().\n",
        "\n",
        "\n",
        "class Instrument:\n",
        "    def play(self):\n",
        "        print(\"Playing an instrument.\")\n",
        "\n",
        "\n",
        "class Guitar(Instrument):\n",
        "    def play(self):\n",
        "        print(\"Strumming the guitar.\")\n",
        "\n",
        "\n",
        "class Piano(Instrument):\n",
        "    def play(self):\n",
        "        print(\"Playing the piano keys.\")\n",
        "\n",
        "\n",
        "def start_playing(instrument):\n",
        "    instrument.play()\n",
        "\n",
        "\n",
        "instrument1 = Guitar()\n",
        "instrument2 = Piano()\n",
        "\n",
        "\n",
        "start_playing(instrument1)\n",
        "start_playing(instrument2)\n",
        "\n"
      ]
    },
    {
      "cell_type": "code",
      "execution_count": null,
      "metadata": {
        "id": "r7X5xgi5WyV6",
        "colab": {
          "base_uri": "https://localhost:8080/"
        },
        "outputId": "f5849394-f0dc-4438-ca14-ade0e9889968"
      },
      "outputs": [
        {
          "output_type": "stream",
          "name": "stdout",
          "text": [
            "Sum: 15\n",
            "Difference: 5\n"
          ]
        }
      ],
      "source": [
        "#Q.7. Create a class MathOperations with a class method add_numbers() to add two numbers and a static\n",
        "#method subtract_numbers() to subtract two numbers\n",
        "\n",
        "class MathOperations:\n",
        "\n",
        "\n",
        "    @classmethod\n",
        "    def add_numbers(cls, a, b):\n",
        "        return a + b\n",
        "\n",
        "\n",
        "    @staticmethod\n",
        "    def subtract_numbers(a, b):\n",
        "        return a - b\n",
        "\n",
        "sum_result = MathOperations.add_numbers(10, 5)\n",
        "print(f\"Sum: {sum_result}\")\n",
        "\n",
        "difference = MathOperations.subtract_numbers(10, 5)\n",
        "print(f\"Difference: {difference}\")"
      ]
    },
    {
      "cell_type": "code",
      "execution_count": null,
      "metadata": {
        "id": "Eux8Ypm7Wyky",
        "colab": {
          "base_uri": "https://localhost:8080/"
        },
        "outputId": "c280f77d-d1c0-474c-c062-2c4dc2bc2cca"
      },
      "outputs": [
        {
          "output_type": "stream",
          "name": "stdout",
          "text": [
            "Total persons created: 3\n"
          ]
        }
      ],
      "source": [
        "#Q.8 Implement a class Person with a class method to count the total number of persons created.\n",
        "class Person:\n",
        "\n",
        "    total_persons = 0\n",
        "\n",
        "    def __init__(self, name):\n",
        "        self.name = name\n",
        "        Person.total_persons += 1\n",
        "\n",
        "\n",
        "    @classmethod\n",
        "    def get_total_persons(cls):\n",
        "        return cls.total_persons\n",
        "\n",
        "\n",
        "p1 = Person(\"Alice\")\n",
        "p2 = Person(\"Bob\")\n",
        "p3 = Person(\"Charlie\")\n",
        "\n",
        "print(f\"Total persons created: {Person.get_total_persons()}\")\n"
      ]
    },
    {
      "cell_type": "code",
      "execution_count": null,
      "metadata": {
        "id": "kPQXx2f5Wyr7",
        "colab": {
          "base_uri": "https://localhost:8080/"
        },
        "outputId": "d96e6d4d-9ea4-449d-e8c4-455cda4f4a22"
      },
      "outputs": [
        {
          "output_type": "stream",
          "name": "stdout",
          "text": [
            "3/4\n",
            "7/2\n"
          ]
        }
      ],
      "source": [
        "#Q.9  Write a class Fraction with attributes numerator and denominator. Override the str method to display the\n",
        "# fraction as \"numerator/denominator\".\n",
        "\n",
        "\n",
        "class Fraction:\n",
        "    def __init__(self, numerator, denominator):\n",
        "        self.numerator = numerator\n",
        "        self.denominator = denominator\n",
        "\n",
        "\n",
        "    def __str__(self):\n",
        "        return f\"{self.numerator}/{self.denominator}\"\n",
        "\n",
        "\n",
        "f1 = Fraction(3, 4)\n",
        "f2 = Fraction(7, 2)\n",
        "\n",
        "print(f1)\n",
        "print(f2)"
      ]
    },
    {
      "cell_type": "code",
      "execution_count": null,
      "metadata": {
        "id": "X-hfjJ0LWyxx",
        "colab": {
          "base_uri": "https://localhost:8080/"
        },
        "outputId": "2f3d5a43-1931-4af7-89f4-a510a4341683"
      },
      "outputs": [
        {
          "output_type": "stream",
          "name": "stdout",
          "text": [
            "Vector 1: (2, 3)\n",
            "Vector 2: (4, 5)\n",
            "Sum: (6, 8)\n"
          ]
        }
      ],
      "source": [
        "#Q.10.Demonstrate operator overloading by creating a class Vector and overriding the add method to add two\n",
        "#vectors\n",
        "\n",
        "class Vector:\n",
        "    def __init__(self, x, y):\n",
        "        self.x = x\n",
        "        self.y = y\n",
        "\n",
        "\n",
        "    def __add__(self, other):\n",
        "        return Vector(self.x + other.x, self.y + other.y)\n",
        "\n",
        "\n",
        "    def __str__(self):\n",
        "        return f\"({self.x}, {self.y})\"\n",
        "\n",
        "\n",
        "v1 = Vector(2, 3)\n",
        "v2 = Vector(4, 5)\n",
        "\n",
        "v3 = v1 + v2\n",
        "\n",
        "print(f\"Vector 1: {v1}\")\n",
        "print(f\"Vector 2: {v2}\")\n",
        "print(f\"Sum: {v3}\")\n"
      ]
    },
    {
      "cell_type": "code",
      "execution_count": null,
      "metadata": {
        "id": "8k3UjcSmWy47",
        "colab": {
          "base_uri": "https://localhost:8080/"
        },
        "outputId": "36dadb88-934f-4466-f66f-88953e6981d8"
      },
      "outputs": [
        {
          "output_type": "stream",
          "name": "stdout",
          "text": [
            "Hello, my name is bhim and I am 29 years old.\n"
          ]
        }
      ],
      "source": [
        "#Q.11.Create a class Person with attributes name and age. Add a method greet() that prints \"Hello, my name is\n",
        "#{name} and I am {age} years old.\"\n",
        "\n",
        "class Person:\n",
        "    def __init__(self, name, age):\n",
        "        self.name = name\n",
        "        self.age = age\n",
        "\n",
        "    def greet(self):\n",
        "        print(f\"Hello, my name is {self.name} and I am {self.age} years old.\")\n",
        "\n",
        "\n",
        "p1 = Person(\"bhim\", 29)\n",
        "p1.greet()"
      ]
    },
    {
      "cell_type": "code",
      "execution_count": null,
      "metadata": {
        "id": "PgNBTT93Wy_i",
        "colab": {
          "base_uri": "https://localhost:8080/"
        },
        "outputId": "5b8b65f6-82f7-42fa-ddd0-5c455669d3ec"
      },
      "outputs": [
        {
          "output_type": "stream",
          "name": "stdout",
          "text": [
            "Rohit's average grade is: 86.25\n"
          ]
        }
      ],
      "source": [
        "#Q12. Implement a class Student with attributes name and grades. Create a method average_grade() to compute\n",
        "#the average of the grades.\n",
        "class Student:\n",
        "    def __init__(self, name, grades):\n",
        "        self.name = name\n",
        "        self.grades = grades\n",
        "\n",
        "    def average_grade(self):\n",
        "        if len(self.grades) == 0:\n",
        "            return 0\n",
        "        return sum(self.grades) / len(self.grades)\n",
        "\n",
        "\n",
        "s1 = Student(\"Rohit\", [85, 90, 78, 92])\n",
        "print(f\"{s1.name}'s average grade is: {s1.average_grade():.2f}\")\n",
        "\n"
      ]
    },
    {
      "cell_type": "code",
      "execution_count": null,
      "metadata": {
        "id": "-yuQW8-uWzFH",
        "colab": {
          "base_uri": "https://localhost:8080/"
        },
        "outputId": "d55a7830-4a36-46e8-d630-2a28cb10414a"
      },
      "outputs": [
        {
          "output_type": "stream",
          "name": "stdout",
          "text": [
            "Area of the rectangle: 15\n"
          ]
        }
      ],
      "source": [
        "#Q.13. Create a class Rectangle with methods set_dimensions() to set the dimensions and area() to calculate the\n",
        "# area.\n",
        "\n",
        "class Rectangle:\n",
        "    def __init__(self):\n",
        "        self.length = 0\n",
        "        self.width = 0\n",
        "\n",
        "    def set_dimensions(self, length, width):\n",
        "        self.length = length\n",
        "        self.width = width\n",
        "\n",
        "    def area(self):\n",
        "        return self.length * self.width\n",
        "\n",
        "\n",
        "rect = Rectangle()\n",
        "rect.set_dimensions(5, 3)\n",
        "print(f\"Area of the rectangle: {rect.area()}\")\n"
      ]
    },
    {
      "cell_type": "code",
      "execution_count": null,
      "metadata": {
        "id": "y2LNHsT_WzKg",
        "colab": {
          "base_uri": "https://localhost:8080/"
        },
        "outputId": "1b5dec2a-5a8b-4a98-dc52-82e43f72a706"
      },
      "outputs": [
        {
          "output_type": "stream",
          "name": "stdout",
          "text": [
            "Employee Salary: ₹8000\n",
            "Manager Salary: ₹13000\n"
          ]
        }
      ],
      "source": [
        "#Q.14. Create a class Employee with a method calculate_salary() that computes the salary based on hours worked\n",
        "#and hourly rate. Create a derived class Manager that adds a bonus to the salary.\n",
        "\n",
        "class Employee:\n",
        "    def __init__(self, hours_worked, hourly_rate):\n",
        "        self.hours_worked = hours_worked\n",
        "        self.hourly_rate = hourly_rate\n",
        "\n",
        "    def calculate_salary(self):\n",
        "        return self.hours_worked * self.hourly_rate\n",
        "\n",
        "\n",
        "class Manager(Employee):\n",
        "    def __init__(self, hours_worked, hourly_rate, bonus):\n",
        "        super().__init__(hours_worked, hourly_rate)\n",
        "        self.bonus = bonus\n",
        "\n",
        "    def calculate_salary(self):\n",
        "        base_salary = super().calculate_salary()\n",
        "        return base_salary + self.bonus\n",
        "\n",
        "\n",
        "emp = Employee(40, 200)\n",
        "print(f\"Employee Salary: ₹{emp.calculate_salary()}\")\n",
        "\n",
        "mgr = Manager(40, 200, 5000)\n",
        "print(f\"Manager Salary: ₹{mgr.calculate_salary()}\")\n",
        "\n"
      ]
    },
    {
      "cell_type": "code",
      "execution_count": null,
      "metadata": {
        "id": "3piGnt95WzP4",
        "colab": {
          "base_uri": "https://localhost:8080/"
        },
        "outputId": "943713bd-a9fe-41cc-d99e-f39e5ecb79c4"
      },
      "outputs": [
        {
          "output_type": "stream",
          "name": "stdout",
          "text": [
            "Total price for Laptops: ₹100000\n"
          ]
        }
      ],
      "source": [
        "#Q.15.Create a class Product with attributes name, price, and quantity. Implement a method total_price() that\n",
        "#calculates the total price of the product.\n",
        "\n",
        "class Product:\n",
        "    def __init__(self, name, price, quantity):\n",
        "        self.name = name\n",
        "        self.price = price\n",
        "        self.quantity = quantity\n",
        "\n",
        "    def total_price(self):\n",
        "        return self.price * self.quantity\n",
        "\n",
        "p1 = Product(\"Laptop\", 50000, 2)\n",
        "print(f\"Total price for {p1.name}s: ₹{p1.total_price()}\")\n",
        "\n"
      ]
    },
    {
      "cell_type": "code",
      "execution_count": null,
      "metadata": {
        "id": "4S9YGOb8WzVC",
        "colab": {
          "base_uri": "https://localhost:8080/"
        },
        "outputId": "5f80ca7e-8cb5-4710-b3f1-4127454bd280"
      },
      "outputs": [
        {
          "output_type": "stream",
          "name": "stdout",
          "text": [
            "Cow sound: Moo\n",
            "Sheep sound: Baa\n"
          ]
        }
      ],
      "source": [
        "#Q.16.Create a class Animal with an abstract method sound(). Create two derived classes Cow and Sheep that\n",
        "#implement the sound() method.\n",
        "\n",
        "from abc import ABC, abstractmethod\n",
        "\n",
        "\n",
        "class Animal(ABC):\n",
        "    @abstractmethod\n",
        "    def sound(self):\n",
        "        pass\n",
        "\n",
        "\n",
        "class Cow(Animal):\n",
        "    def sound(self):\n",
        "        return \"Moo\"\n",
        "\n",
        "\n",
        "class Sheep(Animal):\n",
        "    def sound(self):\n",
        "        return \"Baa\"\n",
        "\n",
        "\n",
        "cow = Cow()\n",
        "sheep = Sheep()\n",
        "\n",
        "print(f\"Cow sound: {cow.sound()}\")\n",
        "print(f\"Sheep sound: {sheep.sound()}\")\n",
        "\n",
        "\n",
        "\n"
      ]
    },
    {
      "cell_type": "code",
      "execution_count": null,
      "metadata": {
        "id": "APMTd4JKWzaF",
        "colab": {
          "base_uri": "https://localhost:8080/"
        },
        "outputId": "506f61fa-0b69-4db3-cffb-f00c3785b388"
      },
      "outputs": [
        {
          "output_type": "stream",
          "name": "stdout",
          "text": [
            "'RICH DEAD POOR DEAD' by Harper Lee, published in 1960\n"
          ]
        }
      ],
      "source": [
        "#Q.17. Create a class Book with attributes title, author, and year_published. Add a method get_book_info() that\n",
        "#returns a formatted string with the book's details.\n",
        "\n",
        "class Book:\n",
        "    def __init__(self, title, author, year_published):\n",
        "        self.title = title\n",
        "        self.author = author\n",
        "        self.year_published = year_published\n",
        "\n",
        "    def get_book_info(self):\n",
        "        return f\"'{self.title}' by {self.author}, published in {self.year_published}\"\n",
        "\n",
        "\n",
        "book1 = Book(\"RICH DEAD POOR DEAD\", \"Harper Lee\", 1960)\n",
        "print(book1.get_book_info())"
      ]
    },
    {
      "cell_type": "code",
      "execution_count": null,
      "metadata": {
        "id": "YLuWuY21WzfU",
        "colab": {
          "base_uri": "https://localhost:8080/"
        },
        "outputId": "e269770f-3e65-4c94-e249-1141814249a7"
      },
      "outputs": [
        {
          "output_type": "stream",
          "name": "stdout",
          "text": [
            "Address: 123 Luxury St, Beverly Hills\n",
            "Price: ₹50000000\n",
            "Number of rooms: 10\n"
          ]
        }
      ],
      "source": [
        "#Q.18. Create a class House with attributes address and price. Create a derived class Mansion that adds an\n",
        "# attribute number_of_rooms.\n",
        "\n",
        "class House:\n",
        "    def __init__(self, address, price):\n",
        "        self.address = address\n",
        "        self.price = price\n",
        "\n",
        "\n",
        "class Mansion(House):\n",
        "    def __init__(self, address, price, number_of_rooms):\n",
        "        super().__init__(address, price)\n",
        "        self.number_of_rooms = number_of_rooms\n",
        "\n",
        "\n",
        "m1 = Mansion(\"123 Luxury St, Beverly Hills\", 50000000, 10)\n",
        "\n",
        "print(f\"Address: {m1.address}\")\n",
        "print(f\"Price: ₹{m1.price}\")\n",
        "print(f\"Number of rooms: {m1.number_of_rooms}\")\n"
      ]
    }
  ],
  "metadata": {
    "colab": {
      "provenance": []
    },
    "kernelspec": {
      "display_name": "Python 3",
      "name": "python3"
    },
    "language_info": {
      "name": "python"
    }
  },
  "nbformat": 4,
  "nbformat_minor": 0
}